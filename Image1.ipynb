{
 "cells": [
  {
   "cell_type": "code",
   "execution_count": null,
   "metadata": {},
   "outputs": [],
   "source": [
    "import turtle "
   ]
  },
  {
   "cell_type": "code",
   "execution_count": null,
   "metadata": {},
   "outputs": [],
   "source": [
    "wn = turtle.Screen()\n",
    "skk = turtle.Turtle()"
   ]
  },
  {
   "cell_type": "code",
   "execution_count": null,
   "metadata": {},
   "outputs": [],
   "source": [
    "\n",
    "wn.bgcolor(\"black\")"
   ]
  },
  {
   "cell_type": "code",
   "execution_count": null,
   "metadata": {},
   "outputs": [],
   "source": [
    "\n",
    "skk.setheading(90)\n",
    "skk.fillcolor(\"light green\")\n",
    "skk.begin_fill()\n",
    "skk.circle(50,180)\n",
    "\n",
    "skk.forward(80)\n",
    "\n",
    "skk.circle(50,180)\n",
    "skk.forward(80)\n",
    "skk.end_fill()"
   ]
  },
  {
   "cell_type": "code",
   "execution_count": null,
   "metadata": {},
   "outputs": [],
   "source": [
    "skk.fillcolor(\"yellow\")\n",
    "skk.penup()\n",
    "skk.begin_fill()\n",
    "for i in range(3):\n",
    "    skk.forward(50)\n",
    "    skk.left(50)\n",
    "skk.end_fill()"
   ]
  },
  {
   "cell_type": "code",
   "execution_count": null,
   "metadata": {},
   "outputs": [],
   "source": [
    "skk.pencolor(\"light green\")\n",
    "skk.setheading(0)\n",
    "skk.goto(-70,-20)\n",
    "skk.fillcolor(\"white\")\n",
    "skk.begin_fill()\n",
    "skk.circle(20)\n",
    "skk.end_fill()\n",
    "skk.goto(-30,-20)\n",
    "skk.begin_fill()\n",
    "skk.circle(20)\n",
    "skk.end_fill()\n",
    "\n"
   ]
  },
  {
   "cell_type": "code",
   "execution_count": null,
   "metadata": {},
   "outputs": [],
   "source": [
    "skk.pencolor(\"white\")\n",
    "skk.shape(\"circle\")\n",
    "skk.fillcolor(\"black\")\n",
    "skk.penup()\n",
    "skk.goto(-70,0)\n",
    "skk.stamp()\n",
    "skk.goto(-27,0)\n",
    "skk.stamp()"
   ]
  },
  {
   "cell_type": "code",
   "execution_count": null,
   "metadata": {},
   "outputs": [],
   "source": [
    "\n",
    "skk.shape(\"square\")\n",
    "skk.fillcolor(\"orange\")\n",
    "skk.setheading(0)\n",
    "\n",
    "skk.goto(-70,-125)\n",
    "skk.stamp()\n",
    "skk.goto(-27,-125)\n",
    "skk.stamp()\n",
    "\n",
    "\n"
   ]
  },
  {
   "cell_type": "code",
   "execution_count": null,
   "metadata": {},
   "outputs": [],
   "source": []
  },
  {
   "cell_type": "code",
   "execution_count": null,
   "metadata": {},
   "outputs": [],
   "source": [
    "skk.fillcolor(\"orange\")\n",
    "skk.pencolor(\"orange\")\n",
    "\n",
    "skk.penup()\n",
    "skk.goto(-50,-40)\n",
    "skk.begin_fill()\n",
    "skk.circle(10)\n",
    "skk.end_fill()\n"
   ]
  },
  {
   "cell_type": "code",
   "execution_count": null,
   "metadata": {},
   "outputs": [],
   "source": []
  }
 ],
 "metadata": {
  "kernelspec": {
   "display_name": "Python 3",
   "language": "python",
   "name": "python3"
  },
  "language_info": {
   "codemirror_mode": {
    "name": "ipython",
    "version": 3
   },
   "file_extension": ".py",
   "mimetype": "text/x-python",
   "name": "python",
   "nbconvert_exporter": "python",
   "pygments_lexer": "ipython3",
   "version": "3.7.6"
  }
 },
 "nbformat": 4,
 "nbformat_minor": 4
}
